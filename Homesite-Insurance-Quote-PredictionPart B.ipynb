{
  "nbformat": 4,
  "nbformat_minor": 0,
  "metadata": {
    "colab": {
      "provenance": []
    },
    "kernelspec": {
      "name": "python3",
      "display_name": "Python 3"
    }
  },
  "cells": [
    {
      "cell_type": "code",
      "metadata": {
        "id": "kPHUVL77R3qH",
        "colab": {
          "base_uri": "https://localhost:8080/"
        },
        "outputId": "1bc44a40-6466-47b1-af0b-57e080a4f702"
      },
      "source": [
        "# To upload our datasets from our working directory we need to mount our drive contents to the colab environment.\n",
        "# For the code to do so you can search “mount” in code snippets or use the code given below.\n",
        "# Our entire drive contents are now mounted on colab at the location “/gdrive”.\n",
        "from google.colab import drive\n",
        "drive.mount('/gdrive')\n",
        "#Change current working directory to gdrive\n",
        "%cd /gdrive\n"
      ],
      "execution_count": null,
      "outputs": [
        {
          "output_type": "stream",
          "name": "stdout",
          "text": [
            "Drive already mounted at /gdrive; to attempt to forcibly remount, call drive.mount(\"/gdrive\", force_remount=True).\n",
            "/gdrive\n"
          ]
        }
      ]
    },
    {
      "cell_type": "code",
      "metadata": {
        "colab": {
          "base_uri": "https://localhost:8080/"
        },
        "id": "jLG4iks102sl",
        "outputId": "f3c2f48f-bf0e-45d9-a30d-bd206061b033"
      },
      "source": [
        "!pip install vecstack\n"
      ],
      "execution_count": null,
      "outputs": [
        {
          "output_type": "stream",
          "name": "stdout",
          "text": [
            "Requirement already satisfied: vecstack in /usr/local/lib/python3.10/dist-packages (0.4.0)\n",
            "Requirement already satisfied: numpy in /usr/local/lib/python3.10/dist-packages (from vecstack) (1.23.5)\n",
            "Requirement already satisfied: scipy in /usr/local/lib/python3.10/dist-packages (from vecstack) (1.11.3)\n",
            "Requirement already satisfied: scikit-learn>=0.18 in /usr/local/lib/python3.10/dist-packages (from vecstack) (1.2.2)\n",
            "Requirement already satisfied: joblib>=1.1.1 in /usr/local/lib/python3.10/dist-packages (from scikit-learn>=0.18->vecstack) (1.3.2)\n",
            "Requirement already satisfied: threadpoolctl>=2.0.0 in /usr/local/lib/python3.10/dist-packages (from scikit-learn>=0.18->vecstack) (3.2.0)\n"
          ]
        }
      ]
    },
    {
      "cell_type": "code",
      "metadata": {
        "id": "md5Ek9GT13Yb"
      },
      "source": [
        "from vecstack import stacking\n",
        "import pandas as pd\n",
        "import numpy as np\n",
        "from sklearn.metrics import accuracy_score #works\n",
        "from sklearn.model_selection import train_test_split\n",
        "from sklearn.ensemble import RandomForestClassifier\n",
        "from sklearn.tree import DecisionTreeClassifier\n",
        "from sklearn.model_selection import GridSearchCV\n",
        "from sklearn.model_selection import RandomizedSearchCV\n",
        "from sklearn.model_selection import cross_val_score\n",
        "from sklearn.metrics import classification_report, confusion_matrix\n",
        "from sklearn.ensemble import GradientBoostingClassifier\n",
        "from sklearn.neural_network import MLPClassifier\n",
        "#from sklearn.ensemble import RandomForestClassifier\n",
        "from imblearn.over_sampling import SMOTE\n",
        "from sklearn.svm import SVC\n",
        "from collections import Counter #for Smote,\n",
        "\n",
        "import warnings\n",
        "warnings.filterwarnings(\"ignore\")\n"
      ],
      "execution_count": null,
      "outputs": []
    },
    {
      "cell_type": "code",
      "metadata": {
        "colab": {
          "base_uri": "https://localhost:8080/"
        },
        "id": "0bQ9eJR819Cp",
        "outputId": "ae3d8618-21fd-4495-c454-6482cd18409f"
      },
      "source": [
        "\n",
        "trainfile = r'/gdrive/My Drive/RevisedHomesiteTrain1.csv'\n",
        "train_data = pd.read_csv(trainfile)\n",
        "testfile = r'/gdrive/My Drive/RevisedHomesiteTest1.csv'\n",
        "test_data = pd.read_csv(testfile)\n",
        "print(train_data.shape)\n",
        "print(test_data.shape)\n",
        "print(train_data.head())\n",
        "X_test = test_data.drop(columns=['QuoteConversion_Flag'])\n",
        "print(X_test.shape)\n",
        "\n"
      ],
      "execution_count": null,
      "outputs": [
        {
          "output_type": "stream",
          "name": "stdout",
          "text": [
            "(65000, 596)\n",
            "(173836, 596)\n",
            "   CoverageField11A  CoverageField11B  CoverageField1A  CoverageField1B  \\\n",
            "0                 2                 1               17               23   \n",
            "1                 5                 9                6                8   \n",
            "2                 4                 6                7               12   \n",
            "3                15                23                3                2   \n",
            "4                 4                 6                8               13   \n",
            "\n",
            "   CoverageField2A  CoverageField2B  CoverageField3A  CoverageField3B  \\\n",
            "0               17               23               15               22   \n",
            "1                6                8                5                7   \n",
            "2                7               12                6               10   \n",
            "3                3                2                2                2   \n",
            "4                8               13                7               11   \n",
            "\n",
            "   CoverageField4A  CoverageField4B  ...  PropertyField38_N  \\\n",
            "0               16               22  ...                  1   \n",
            "1                5                8  ...                  1   \n",
            "2                7               11  ...                  1   \n",
            "3                3                2  ...                  1   \n",
            "4                7               13  ...                  1   \n",
            "\n",
            "   PropertyField38_Y  GeographicField63_   GeographicField63_N  \\\n",
            "0                  0                    0                    1   \n",
            "1                  0                    0                    1   \n",
            "2                  0                    0                    1   \n",
            "3                  0                    0                    1   \n",
            "4                  0                    0                    1   \n",
            "\n",
            "   GeographicField63_Y  GeographicField64_CA  GeographicField64_IL  \\\n",
            "0                    0                     1                     0   \n",
            "1                    0                     0                     0   \n",
            "2                    0                     0                     0   \n",
            "3                    0                     0                     0   \n",
            "4                    0                     0                     1   \n",
            "\n",
            "   GeographicField64_NJ  GeographicField64_TX  QuoteConversion_Flag  \n",
            "0                     0                     0                     0  \n",
            "1                     1                     0                     0  \n",
            "2                     1                     0                     0  \n",
            "3                     0                     1                     0  \n",
            "4                     0                     0                     0  \n",
            "\n",
            "[5 rows x 596 columns]\n",
            "(173836, 595)\n"
          ]
        }
      ]
    },
    {
      "cell_type": "code",
      "source": [
        "#To get list of names of all Columns from a dataframe\n",
        "\n",
        "TrainCols = list(train_data.columns.values)\n",
        "TestCols = list(X_test.columns.values)\n",
        "print(TrainCols)\n",
        "print(TestCols)"
      ],
      "metadata": {
        "colab": {
          "base_uri": "https://localhost:8080/"
        },
        "id": "TN2ECkmVwhYP",
        "outputId": "88a9f3d5-0928-485e-cdbf-c0aa669e8cb5"
      },
      "execution_count": null,
      "outputs": [
        {
          "output_type": "stream",
          "name": "stdout",
          "text": [
            "['CoverageField11A', 'CoverageField11B', 'CoverageField1A', 'CoverageField1B', 'CoverageField2A', 'CoverageField2B', 'CoverageField3A', 'CoverageField3B', 'CoverageField4A', 'CoverageField4B', 'CoverageField5A', 'CoverageField5B', 'CoverageField6A', 'CoverageField6B', 'Field10', 'Field11', 'Field7', 'Field8', 'Field9', 'GeographicField10A', 'GeographicField10B', 'GeographicField11A', 'GeographicField11B', 'GeographicField12A', 'GeographicField12B', 'GeographicField13A', 'GeographicField13B', 'GeographicField14A', 'GeographicField14B', 'GeographicField15A', 'GeographicField15B', 'GeographicField16A', 'GeographicField16B', 'GeographicField17A', 'GeographicField17B', 'GeographicField18A', 'GeographicField18B', 'GeographicField19A', 'GeographicField19B', 'GeographicField1A', 'GeographicField1B', 'GeographicField20A', 'GeographicField20B', 'GeographicField21A', 'GeographicField21B', 'GeographicField22A', 'GeographicField22B', 'GeographicField23A', 'GeographicField23B', 'GeographicField24A', 'GeographicField24B', 'GeographicField25A', 'GeographicField25B', 'GeographicField26A', 'GeographicField26B', 'GeographicField27A', 'GeographicField27B', 'GeographicField28A', 'GeographicField28B', 'GeographicField29A', 'GeographicField29B', 'GeographicField2A', 'GeographicField2B', 'GeographicField30A', 'GeographicField30B', 'GeographicField31A', 'GeographicField31B', 'GeographicField32A', 'GeographicField32B', 'GeographicField33A', 'GeographicField33B', 'GeographicField34A', 'GeographicField34B', 'GeographicField35A', 'GeographicField35B', 'GeographicField36A', 'GeographicField36B', 'GeographicField37A', 'GeographicField37B', 'GeographicField38A', 'GeographicField38B', 'GeographicField39A', 'GeographicField39B', 'GeographicField3A', 'GeographicField3B', 'GeographicField40A', 'GeographicField40B', 'GeographicField41A', 'GeographicField41B', 'GeographicField42A', 'GeographicField42B', 'GeographicField43A', 'GeographicField43B', 'GeographicField44A', 'GeographicField44B', 'GeographicField45A', 'GeographicField45B', 'GeographicField46A', 'GeographicField46B', 'GeographicField47A', 'GeographicField47B', 'GeographicField48A', 'GeographicField48B', 'GeographicField49A', 'GeographicField49B', 'GeographicField4A', 'GeographicField4B', 'GeographicField50A', 'GeographicField50B', 'GeographicField51A', 'GeographicField51B', 'GeographicField52A', 'GeographicField52B', 'GeographicField53A', 'GeographicField53B', 'GeographicField54A', 'GeographicField54B', 'GeographicField55A', 'GeographicField55B', 'GeographicField56A', 'GeographicField56B', 'GeographicField57A', 'GeographicField57B', 'GeographicField58A', 'GeographicField58B', 'GeographicField59A', 'GeographicField59B', 'GeographicField5A', 'GeographicField5B', 'GeographicField60A', 'GeographicField60B', 'GeographicField61A', 'GeographicField61B', 'GeographicField62A', 'GeographicField62B', 'GeographicField6A', 'GeographicField6B', 'GeographicField7A', 'GeographicField7B', 'GeographicField8A', 'GeographicField8B', 'GeographicField9A', 'GeographicField9B', 'PersonalField1', 'PersonalField10A', 'PersonalField10B', 'PersonalField11', 'PersonalField12', 'PersonalField13', 'PersonalField14', 'PersonalField15', 'PersonalField2', 'PersonalField22', 'PersonalField23', 'PersonalField24', 'PersonalField25', 'PersonalField26', 'PersonalField27', 'PersonalField28', 'PersonalField29', 'PersonalField30', 'PersonalField31', 'PersonalField32', 'PersonalField33', 'PersonalField34', 'PersonalField35', 'PersonalField36', 'PersonalField37', 'PersonalField38', 'PersonalField39', 'PersonalField40', 'PersonalField41', 'PersonalField42', 'PersonalField43', 'PersonalField44', 'PersonalField45', 'PersonalField46', 'PersonalField47', 'PersonalField48', 'PersonalField49', 'PersonalField4A', 'PersonalField4B', 'PersonalField5', 'PersonalField50', 'PersonalField51', 'PersonalField52', 'PersonalField53', 'PersonalField54', 'PersonalField55', 'PersonalField56', 'PersonalField57', 'PersonalField58', 'PersonalField59', 'PersonalField6', 'PersonalField60', 'PersonalField61', 'PersonalField62', 'PersonalField63', 'PersonalField64', 'PersonalField65', 'PersonalField66', 'PersonalField67', 'PersonalField68', 'PersonalField69', 'PersonalField70', 'PersonalField71', 'PersonalField72', 'PersonalField73', 'PersonalField74', 'PersonalField75', 'PersonalField76', 'PersonalField77', 'PersonalField78', 'PersonalField79', 'PersonalField8', 'PersonalField80', 'PersonalField81', 'PersonalField82', 'PersonalField83', 'PersonalField9', 'PropertyField10', 'PropertyField11A', 'PropertyField11B', 'PropertyField12', 'PropertyField13', 'PropertyField15', 'PropertyField16A', 'PropertyField16B', 'PropertyField17', 'PropertyField18', 'PropertyField19', 'PropertyField1A', 'PropertyField1B', 'PropertyField20', 'PropertyField21A', 'PropertyField21B', 'PropertyField22', 'PropertyField23', 'PropertyField24A', 'PropertyField24B', 'PropertyField25', 'PropertyField26A', 'PropertyField26B', 'PropertyField27', 'PropertyField2A', 'PropertyField2B', 'PropertyField35', 'PropertyField39A', 'PropertyField39B', 'PropertyField6', 'PropertyField8', 'PropertyField9', 'QuoteNumber', 'SalesField10', 'SalesField11', 'SalesField12', 'SalesField13', 'SalesField14', 'SalesField15', 'SalesField1A', 'SalesField1B', 'SalesField2A', 'SalesField2B', 'SalesField3', 'SalesField4', 'SalesField5', 'SalesField6', 'SalesField8', 'SalesField9', 'Field6_A', 'Field6_B', 'Field6_C', 'Field6_D', 'Field6_E', 'Field6_F', 'Field6_J', 'Field6_K', 'Field12_N', 'Field12_Y', 'CoverageField8_T', 'CoverageField8_U', 'CoverageField8_V', 'CoverageField8_W', 'CoverageField8_X', 'CoverageField8_Y', 'CoverageField8_Z', 'CoverageField9_A', 'CoverageField9_B', 'CoverageField9_C', 'CoverageField9_D', 'CoverageField9_E', 'CoverageField9_F', 'CoverageField9_G', 'CoverageField9_H', 'CoverageField9_I', 'CoverageField9_J', 'CoverageField9_K', 'CoverageField9_L', 'SalesField7_K', 'SalesField7_M', 'SalesField7_P', 'SalesField7_Q', 'SalesField7_R', 'SalesField7_T', 'SalesField7_V', 'PersonalField7_N', 'PersonalField7_Y', 'PersonalField16_XB', 'PersonalField16_XC', 'PersonalField16_XD', 'PersonalField16_XE', 'PersonalField16_XF', 'PersonalField16_XG', 'PersonalField16_XH', 'PersonalField16_XI', 'PersonalField16_XJ', 'PersonalField16_XK', 'PersonalField16_XL', 'PersonalField16_XM', 'PersonalField16_XO', 'PersonalField16_XP', 'PersonalField16_XQ', 'PersonalField16_XR', 'PersonalField16_XS', 'PersonalField16_XT', 'PersonalField16_XV', 'PersonalField16_XW', 'PersonalField16_XX', 'PersonalField16_XY', 'PersonalField16_XZ', 'PersonalField16_YE', 'PersonalField16_YF', 'PersonalField16_YG', 'PersonalField16_YH', 'PersonalField16_YI', 'PersonalField16_ZA', 'PersonalField16_ZB', 'PersonalField16_ZC', 'PersonalField16_ZD', 'PersonalField16_ZE', 'PersonalField16_ZF', 'PersonalField16_ZG', 'PersonalField16_ZH', 'PersonalField16_ZI', 'PersonalField16_ZJ', 'PersonalField16_ZK', 'PersonalField16_ZM', 'PersonalField16_ZN', 'PersonalField16_ZO', 'PersonalField16_ZP', 'PersonalField16_ZR', 'PersonalField16_ZS', 'PersonalField16_ZT', 'PersonalField16_ZU', 'PersonalField16_ZW', 'PersonalField17_XB', 'PersonalField17_XC', 'PersonalField17_XD', 'PersonalField17_XE', 'PersonalField17_XF', 'PersonalField17_XG', 'PersonalField17_XH', 'PersonalField17_XI', 'PersonalField17_XK', 'PersonalField17_XL', 'PersonalField17_XM', 'PersonalField17_XN', 'PersonalField17_XQ', 'PersonalField17_XR', 'PersonalField17_XS', 'PersonalField17_XT', 'PersonalField17_XU', 'PersonalField17_XV', 'PersonalField17_XW', 'PersonalField17_XX', 'PersonalField17_XZ', 'PersonalField17_YE', 'PersonalField17_YF', 'PersonalField17_YG', 'PersonalField17_YH', 'PersonalField17_YI', 'PersonalField17_YJ', 'PersonalField17_YK', 'PersonalField17_YL', 'PersonalField17_YM', 'PersonalField17_YN', 'PersonalField17_YO', 'PersonalField17_YP', 'PersonalField17_YQ', 'PersonalField17_YR', 'PersonalField17_YS', 'PersonalField17_YT', 'PersonalField17_YU', 'PersonalField17_YV', 'PersonalField17_YW', 'PersonalField17_YX', 'PersonalField17_YY', 'PersonalField17_YZ', 'PersonalField17_ZA', 'PersonalField17_ZB', 'PersonalField17_ZC', 'PersonalField17_ZD', 'PersonalField17_ZE', 'PersonalField17_ZF', 'PersonalField17_ZG', 'PersonalField17_ZH', 'PersonalField17_ZI', 'PersonalField17_ZJ', 'PersonalField17_ZK', 'PersonalField17_ZL', 'PersonalField17_ZM', 'PersonalField17_ZN', 'PersonalField17_ZO', 'PersonalField17_ZP', 'PersonalField17_ZQ', 'PersonalField17_ZS', 'PersonalField17_ZT', 'PersonalField17_ZU', 'PersonalField17_ZV', 'PersonalField17_ZW', 'PersonalField18_XB', 'PersonalField18_XC', 'PersonalField18_XD', 'PersonalField18_XE', 'PersonalField18_XF', 'PersonalField18_XG', 'PersonalField18_XI', 'PersonalField18_XJ', 'PersonalField18_XK', 'PersonalField18_XL', 'PersonalField18_XM', 'PersonalField18_XN', 'PersonalField18_XO', 'PersonalField18_XP', 'PersonalField18_XQ', 'PersonalField18_XR', 'PersonalField18_XS', 'PersonalField18_XT', 'PersonalField18_XU', 'PersonalField18_XW', 'PersonalField18_XX', 'PersonalField18_XY', 'PersonalField18_XZ', 'PersonalField18_YE', 'PersonalField18_YF', 'PersonalField18_YG', 'PersonalField18_YH', 'PersonalField18_YI', 'PersonalField18_YJ', 'PersonalField18_YK', 'PersonalField18_YL', 'PersonalField18_YM', 'PersonalField18_YN', 'PersonalField18_YO', 'PersonalField18_YP', 'PersonalField18_YQ', 'PersonalField18_YR', 'PersonalField18_ZA', 'PersonalField18_ZB', 'PersonalField18_ZC', 'PersonalField18_ZD', 'PersonalField18_ZE', 'PersonalField18_ZF', 'PersonalField18_ZH', 'PersonalField18_ZJ', 'PersonalField18_ZK', 'PersonalField18_ZL', 'PersonalField18_ZM', 'PersonalField18_ZN', 'PersonalField18_ZO', 'PersonalField18_ZP', 'PersonalField18_ZQ', 'PersonalField18_ZR', 'PersonalField18_ZS', 'PersonalField18_ZT', 'PersonalField18_ZU', 'PersonalField18_ZV', 'PersonalField18_ZW', 'PersonalField19_XB', 'PersonalField19_XC', 'PersonalField19_XD', 'PersonalField19_XE', 'PersonalField19_XF', 'PersonalField19_XG', 'PersonalField19_XH', 'PersonalField19_XI', 'PersonalField19_XJ', 'PersonalField19_XK', 'PersonalField19_XM', 'PersonalField19_XN', 'PersonalField19_XO', 'PersonalField19_XP', 'PersonalField19_XQ', 'PersonalField19_XR', 'PersonalField19_XS', 'PersonalField19_XT', 'PersonalField19_XU', 'PersonalField19_XV', 'PersonalField19_XW', 'PersonalField19_XX', 'PersonalField19_XY', 'PersonalField19_XZ', 'PersonalField19_YE', 'PersonalField19_YF', 'PersonalField19_YG', 'PersonalField19_YH', 'PersonalField19_YJ', 'PersonalField19_YK', 'PersonalField19_YL', 'PersonalField19_YM', 'PersonalField19_YN', 'PersonalField19_ZA', 'PersonalField19_ZB', 'PersonalField19_ZD', 'PersonalField19_ZE', 'PersonalField19_ZF', 'PersonalField19_ZG', 'PersonalField19_ZH', 'PersonalField19_ZI', 'PersonalField19_ZJ', 'PersonalField19_ZK', 'PersonalField19_ZL', 'PersonalField19_ZM', 'PersonalField19_ZN', 'PersonalField19_ZO', 'PersonalField19_ZP', 'PersonalField19_ZQ', 'PersonalField19_ZR', 'PersonalField19_ZS', 'PersonalField19_ZT', 'PersonalField19_ZU', 'PersonalField19_ZV', 'PersonalField19_ZW', 'PropertyField3_N', 'PropertyField3_Y', 'PropertyField4_N', 'PropertyField4_Y', 'PropertyField5_N', 'PropertyField5_Y', 'PropertyField7_A', 'PropertyField7_B', 'PropertyField7_C', 'PropertyField7_D', 'PropertyField7_E', 'PropertyField7_F', 'PropertyField7_G', 'PropertyField7_H', 'PropertyField7_I', 'PropertyField7_J', 'PropertyField7_K', 'PropertyField7_L', 'PropertyField7_M', 'PropertyField7_N', 'PropertyField7_O', 'PropertyField7_P', 'PropertyField7_Q', 'PropertyField7_R', 'PropertyField7_S', 'PropertyField7_T', 'PropertyField14_A', 'PropertyField14_B', 'PropertyField14_C', 'PropertyField14_D', 'PropertyField28_A', 'PropertyField28_B', 'PropertyField28_C', 'PropertyField28_D', 'PropertyField30_N', 'PropertyField30_Y', 'PropertyField31_K', 'PropertyField31_M', 'PropertyField31_N', 'PropertyField31_O', 'PropertyField32_N', 'PropertyField32_Y', 'PropertyField33_E', 'PropertyField33_F', 'PropertyField33_G', 'PropertyField33_H', 'PropertyField34_N', 'PropertyField34_Y', 'PropertyField36_N', 'PropertyField36_Y', 'PropertyField37_ ', 'PropertyField37_N', 'PropertyField37_Y', 'PropertyField38_N', 'PropertyField38_Y', 'GeographicField63_ ', 'GeographicField63_N', 'GeographicField63_Y', 'GeographicField64_CA', 'GeographicField64_IL', 'GeographicField64_NJ', 'GeographicField64_TX', 'QuoteConversion_Flag']\n",
            "['CoverageField11A', 'CoverageField11B', 'CoverageField1A', 'CoverageField1B', 'CoverageField2A', 'CoverageField2B', 'CoverageField3A', 'CoverageField3B', 'CoverageField4A', 'CoverageField4B', 'CoverageField5A', 'CoverageField5B', 'CoverageField6A', 'CoverageField6B', 'Field10', 'Field11', 'Field7', 'Field8', 'Field9', 'GeographicField10A', 'GeographicField10B', 'GeographicField11A', 'GeographicField11B', 'GeographicField12A', 'GeographicField12B', 'GeographicField13A', 'GeographicField13B', 'GeographicField14A', 'GeographicField14B', 'GeographicField15A', 'GeographicField15B', 'GeographicField16A', 'GeographicField16B', 'GeographicField17A', 'GeographicField17B', 'GeographicField18A', 'GeographicField18B', 'GeographicField19A', 'GeographicField19B', 'GeographicField1A', 'GeographicField1B', 'GeographicField20A', 'GeographicField20B', 'GeographicField21A', 'GeographicField21B', 'GeographicField22A', 'GeographicField22B', 'GeographicField23A', 'GeographicField23B', 'GeographicField24A', 'GeographicField24B', 'GeographicField25A', 'GeographicField25B', 'GeographicField26A', 'GeographicField26B', 'GeographicField27A', 'GeographicField27B', 'GeographicField28A', 'GeographicField28B', 'GeographicField29A', 'GeographicField29B', 'GeographicField2A', 'GeographicField2B', 'GeographicField30A', 'GeographicField30B', 'GeographicField31A', 'GeographicField31B', 'GeographicField32A', 'GeographicField32B', 'GeographicField33A', 'GeographicField33B', 'GeographicField34A', 'GeographicField34B', 'GeographicField35A', 'GeographicField35B', 'GeographicField36A', 'GeographicField36B', 'GeographicField37A', 'GeographicField37B', 'GeographicField38A', 'GeographicField38B', 'GeographicField39A', 'GeographicField39B', 'GeographicField3A', 'GeographicField3B', 'GeographicField40A', 'GeographicField40B', 'GeographicField41A', 'GeographicField41B', 'GeographicField42A', 'GeographicField42B', 'GeographicField43A', 'GeographicField43B', 'GeographicField44A', 'GeographicField44B', 'GeographicField45A', 'GeographicField45B', 'GeographicField46A', 'GeographicField46B', 'GeographicField47A', 'GeographicField47B', 'GeographicField48A', 'GeographicField48B', 'GeographicField49A', 'GeographicField49B', 'GeographicField4A', 'GeographicField4B', 'GeographicField50A', 'GeographicField50B', 'GeographicField51A', 'GeographicField51B', 'GeographicField52A', 'GeographicField52B', 'GeographicField53A', 'GeographicField53B', 'GeographicField54A', 'GeographicField54B', 'GeographicField55A', 'GeographicField55B', 'GeographicField56A', 'GeographicField56B', 'GeographicField57A', 'GeographicField57B', 'GeographicField58A', 'GeographicField58B', 'GeographicField59A', 'GeographicField59B', 'GeographicField5A', 'GeographicField5B', 'GeographicField60A', 'GeographicField60B', 'GeographicField61A', 'GeographicField61B', 'GeographicField62A', 'GeographicField62B', 'GeographicField6A', 'GeographicField6B', 'GeographicField7A', 'GeographicField7B', 'GeographicField8A', 'GeographicField8B', 'GeographicField9A', 'GeographicField9B', 'PersonalField1', 'PersonalField10A', 'PersonalField10B', 'PersonalField11', 'PersonalField12', 'PersonalField13', 'PersonalField14', 'PersonalField15', 'PersonalField2', 'PersonalField22', 'PersonalField23', 'PersonalField24', 'PersonalField25', 'PersonalField26', 'PersonalField27', 'PersonalField28', 'PersonalField29', 'PersonalField30', 'PersonalField31', 'PersonalField32', 'PersonalField33', 'PersonalField34', 'PersonalField35', 'PersonalField36', 'PersonalField37', 'PersonalField38', 'PersonalField39', 'PersonalField40', 'PersonalField41', 'PersonalField42', 'PersonalField43', 'PersonalField44', 'PersonalField45', 'PersonalField46', 'PersonalField47', 'PersonalField48', 'PersonalField49', 'PersonalField4A', 'PersonalField4B', 'PersonalField5', 'PersonalField50', 'PersonalField51', 'PersonalField52', 'PersonalField53', 'PersonalField54', 'PersonalField55', 'PersonalField56', 'PersonalField57', 'PersonalField58', 'PersonalField59', 'PersonalField6', 'PersonalField60', 'PersonalField61', 'PersonalField62', 'PersonalField63', 'PersonalField64', 'PersonalField65', 'PersonalField66', 'PersonalField67', 'PersonalField68', 'PersonalField69', 'PersonalField70', 'PersonalField71', 'PersonalField72', 'PersonalField73', 'PersonalField74', 'PersonalField75', 'PersonalField76', 'PersonalField77', 'PersonalField78', 'PersonalField79', 'PersonalField8', 'PersonalField80', 'PersonalField81', 'PersonalField82', 'PersonalField83', 'PersonalField9', 'PropertyField10', 'PropertyField11A', 'PropertyField11B', 'PropertyField12', 'PropertyField13', 'PropertyField15', 'PropertyField16A', 'PropertyField16B', 'PropertyField17', 'PropertyField18', 'PropertyField19', 'PropertyField1A', 'PropertyField1B', 'PropertyField20', 'PropertyField21A', 'PropertyField21B', 'PropertyField22', 'PropertyField23', 'PropertyField24A', 'PropertyField24B', 'PropertyField25', 'PropertyField26A', 'PropertyField26B', 'PropertyField27', 'PropertyField2A', 'PropertyField2B', 'PropertyField35', 'PropertyField39A', 'PropertyField39B', 'PropertyField6', 'PropertyField8', 'PropertyField9', 'QuoteNumber', 'SalesField10', 'SalesField11', 'SalesField12', 'SalesField13', 'SalesField14', 'SalesField15', 'SalesField1A', 'SalesField1B', 'SalesField2A', 'SalesField2B', 'SalesField3', 'SalesField4', 'SalesField5', 'SalesField6', 'SalesField8', 'SalesField9', 'Field6_A', 'Field6_B', 'Field6_C', 'Field6_D', 'Field6_E', 'Field6_F', 'Field6_J', 'Field6_K', 'Field12_N', 'Field12_Y', 'CoverageField8_T', 'CoverageField8_U', 'CoverageField8_V', 'CoverageField8_W', 'CoverageField8_X', 'CoverageField8_Y', 'CoverageField8_Z', 'CoverageField9_A', 'CoverageField9_B', 'CoverageField9_C', 'CoverageField9_D', 'CoverageField9_E', 'CoverageField9_F', 'CoverageField9_G', 'CoverageField9_H', 'CoverageField9_I', 'CoverageField9_J', 'CoverageField9_K', 'CoverageField9_L', 'SalesField7_K', 'SalesField7_M', 'SalesField7_P', 'SalesField7_Q', 'SalesField7_R', 'SalesField7_T', 'SalesField7_V', 'PersonalField7_N', 'PersonalField7_Y', 'PersonalField16_XB', 'PersonalField16_XC', 'PersonalField16_XD', 'PersonalField16_XE', 'PersonalField16_XF', 'PersonalField16_XG', 'PersonalField16_XH', 'PersonalField16_XI', 'PersonalField16_XJ', 'PersonalField16_XK', 'PersonalField16_XL', 'PersonalField16_XM', 'PersonalField16_XO', 'PersonalField16_XP', 'PersonalField16_XQ', 'PersonalField16_XR', 'PersonalField16_XS', 'PersonalField16_XT', 'PersonalField16_XV', 'PersonalField16_XW', 'PersonalField16_XX', 'PersonalField16_XY', 'PersonalField16_XZ', 'PersonalField16_YE', 'PersonalField16_YF', 'PersonalField16_YG', 'PersonalField16_YH', 'PersonalField16_YI', 'PersonalField16_ZA', 'PersonalField16_ZB', 'PersonalField16_ZC', 'PersonalField16_ZD', 'PersonalField16_ZE', 'PersonalField16_ZF', 'PersonalField16_ZG', 'PersonalField16_ZH', 'PersonalField16_ZI', 'PersonalField16_ZJ', 'PersonalField16_ZK', 'PersonalField16_ZM', 'PersonalField16_ZN', 'PersonalField16_ZO', 'PersonalField16_ZP', 'PersonalField16_ZR', 'PersonalField16_ZS', 'PersonalField16_ZT', 'PersonalField16_ZU', 'PersonalField16_ZW', 'PersonalField17_XB', 'PersonalField17_XC', 'PersonalField17_XD', 'PersonalField17_XE', 'PersonalField17_XF', 'PersonalField17_XG', 'PersonalField17_XH', 'PersonalField17_XI', 'PersonalField17_XK', 'PersonalField17_XL', 'PersonalField17_XM', 'PersonalField17_XN', 'PersonalField17_XQ', 'PersonalField17_XR', 'PersonalField17_XS', 'PersonalField17_XT', 'PersonalField17_XU', 'PersonalField17_XV', 'PersonalField17_XW', 'PersonalField17_XX', 'PersonalField17_XZ', 'PersonalField17_YE', 'PersonalField17_YF', 'PersonalField17_YG', 'PersonalField17_YH', 'PersonalField17_YI', 'PersonalField17_YJ', 'PersonalField17_YK', 'PersonalField17_YL', 'PersonalField17_YM', 'PersonalField17_YN', 'PersonalField17_YO', 'PersonalField17_YP', 'PersonalField17_YQ', 'PersonalField17_YR', 'PersonalField17_YS', 'PersonalField17_YT', 'PersonalField17_YU', 'PersonalField17_YV', 'PersonalField17_YW', 'PersonalField17_YX', 'PersonalField17_YY', 'PersonalField17_YZ', 'PersonalField17_ZA', 'PersonalField17_ZB', 'PersonalField17_ZC', 'PersonalField17_ZD', 'PersonalField17_ZE', 'PersonalField17_ZF', 'PersonalField17_ZG', 'PersonalField17_ZH', 'PersonalField17_ZI', 'PersonalField17_ZJ', 'PersonalField17_ZK', 'PersonalField17_ZL', 'PersonalField17_ZM', 'PersonalField17_ZN', 'PersonalField17_ZO', 'PersonalField17_ZP', 'PersonalField17_ZQ', 'PersonalField17_ZS', 'PersonalField17_ZT', 'PersonalField17_ZU', 'PersonalField17_ZV', 'PersonalField17_ZW', 'PersonalField18_XB', 'PersonalField18_XC', 'PersonalField18_XD', 'PersonalField18_XE', 'PersonalField18_XF', 'PersonalField18_XG', 'PersonalField18_XI', 'PersonalField18_XJ', 'PersonalField18_XK', 'PersonalField18_XL', 'PersonalField18_XM', 'PersonalField18_XN', 'PersonalField18_XO', 'PersonalField18_XP', 'PersonalField18_XQ', 'PersonalField18_XR', 'PersonalField18_XS', 'PersonalField18_XT', 'PersonalField18_XU', 'PersonalField18_XW', 'PersonalField18_XX', 'PersonalField18_XY', 'PersonalField18_XZ', 'PersonalField18_YE', 'PersonalField18_YF', 'PersonalField18_YG', 'PersonalField18_YH', 'PersonalField18_YI', 'PersonalField18_YJ', 'PersonalField18_YK', 'PersonalField18_YL', 'PersonalField18_YM', 'PersonalField18_YN', 'PersonalField18_YO', 'PersonalField18_YP', 'PersonalField18_YQ', 'PersonalField18_YR', 'PersonalField18_ZA', 'PersonalField18_ZB', 'PersonalField18_ZC', 'PersonalField18_ZD', 'PersonalField18_ZE', 'PersonalField18_ZF', 'PersonalField18_ZH', 'PersonalField18_ZJ', 'PersonalField18_ZK', 'PersonalField18_ZL', 'PersonalField18_ZM', 'PersonalField18_ZN', 'PersonalField18_ZO', 'PersonalField18_ZP', 'PersonalField18_ZQ', 'PersonalField18_ZR', 'PersonalField18_ZS', 'PersonalField18_ZT', 'PersonalField18_ZU', 'PersonalField18_ZV', 'PersonalField18_ZW', 'PersonalField19_XB', 'PersonalField19_XC', 'PersonalField19_XD', 'PersonalField19_XE', 'PersonalField19_XF', 'PersonalField19_XG', 'PersonalField19_XH', 'PersonalField19_XI', 'PersonalField19_XJ', 'PersonalField19_XK', 'PersonalField19_XM', 'PersonalField19_XN', 'PersonalField19_XO', 'PersonalField19_XP', 'PersonalField19_XQ', 'PersonalField19_XR', 'PersonalField19_XS', 'PersonalField19_XT', 'PersonalField19_XU', 'PersonalField19_XV', 'PersonalField19_XW', 'PersonalField19_XX', 'PersonalField19_XY', 'PersonalField19_XZ', 'PersonalField19_YE', 'PersonalField19_YF', 'PersonalField19_YG', 'PersonalField19_YH', 'PersonalField19_YJ', 'PersonalField19_YK', 'PersonalField19_YL', 'PersonalField19_YM', 'PersonalField19_YN', 'PersonalField19_ZA', 'PersonalField19_ZB', 'PersonalField19_ZD', 'PersonalField19_ZE', 'PersonalField19_ZF', 'PersonalField19_ZG', 'PersonalField19_ZH', 'PersonalField19_ZI', 'PersonalField19_ZJ', 'PersonalField19_ZK', 'PersonalField19_ZL', 'PersonalField19_ZM', 'PersonalField19_ZN', 'PersonalField19_ZO', 'PersonalField19_ZP', 'PersonalField19_ZQ', 'PersonalField19_ZR', 'PersonalField19_ZS', 'PersonalField19_ZT', 'PersonalField19_ZU', 'PersonalField19_ZV', 'PersonalField19_ZW', 'PropertyField3_N', 'PropertyField3_Y', 'PropertyField4_N', 'PropertyField4_Y', 'PropertyField5_N', 'PropertyField5_Y', 'PropertyField7_A', 'PropertyField7_B', 'PropertyField7_C', 'PropertyField7_D', 'PropertyField7_E', 'PropertyField7_F', 'PropertyField7_G', 'PropertyField7_H', 'PropertyField7_I', 'PropertyField7_J', 'PropertyField7_K', 'PropertyField7_L', 'PropertyField7_M', 'PropertyField7_N', 'PropertyField7_O', 'PropertyField7_P', 'PropertyField7_Q', 'PropertyField7_R', 'PropertyField7_S', 'PropertyField7_T', 'PropertyField14_A', 'PropertyField14_B', 'PropertyField14_C', 'PropertyField14_D', 'PropertyField28_A', 'PropertyField28_B', 'PropertyField28_C', 'PropertyField28_D', 'PropertyField30_N', 'PropertyField30_Y', 'PropertyField31_K', 'PropertyField31_M', 'PropertyField31_N', 'PropertyField31_O', 'PropertyField32_N', 'PropertyField32_Y', 'PropertyField33_E', 'PropertyField33_F', 'PropertyField33_G', 'PropertyField33_H', 'PropertyField34_N', 'PropertyField34_Y', 'PropertyField36_N', 'PropertyField36_Y', 'PropertyField37_ ', 'PropertyField37_N', 'PropertyField37_Y', 'PropertyField38_N', 'PropertyField38_Y', 'GeographicField63_ ', 'GeographicField63_N', 'GeographicField63_Y', 'GeographicField64_CA', 'GeographicField64_IL', 'GeographicField64_NJ', 'GeographicField64_TX']\n"
          ]
        }
      ]
    },
    {
      "cell_type": "code",
      "source": [
        "# Seperate Target column from Train Data\n",
        "Xtrain = train_data[TrainCols[0:len(TrainCols)-1]].copy()\n",
        "Ytrain = train_data[['QuoteConversion_Flag']].copy()\n",
        "print(\"Train Set shape:\")\n",
        "print(Xtrain.shape)\n",
        "print(Ytrain.shape)\n",
        "\n",
        "Xtest = X_test[TrainCols[0:len(TrainCols)-1]].copy()\n",
        "\n",
        "print(\"Test Set shape:\")\n",
        "print(Xtest.shape)\n"
      ],
      "metadata": {
        "colab": {
          "base_uri": "https://localhost:8080/"
        },
        "id": "JTn66UQ8temz",
        "outputId": "ac47362a-6dad-4d6c-a75b-507be8ccdc10"
      },
      "execution_count": null,
      "outputs": [
        {
          "output_type": "stream",
          "name": "stdout",
          "text": [
            "Train Set shape:\n",
            "(65000, 595)\n",
            "(65000, 1)\n",
            "Test Set shape:\n",
            "(173836, 595)\n"
          ]
        }
      ]
    },
    {
      "cell_type": "code",
      "source": [
        "from sklearn.ensemble import RandomForestClassifier\n",
        "rfc = RandomForestClassifier()\n",
        "from sklearn.neighbors import KNeighborsClassifier\n",
        "neigh = KNeighborsClassifier(n_neighbors=3)\n",
        "from sklearn.svm import LinearSVC\n",
        "linsvm = LinearSVC(max_iter=300)\n",
        "from sklearn.tree import DecisionTreeClassifier\n",
        "clf = DecisionTreeClassifier()"
      ],
      "metadata": {
        "id": "M8suuscG9oZC"
      },
      "execution_count": null,
      "outputs": []
    },
    {
      "cell_type": "markdown",
      "metadata": {
        "id": "sdhKtuqXQ73r"
      },
      "source": [
        " **SMOTE and Decision Tree**"
      ]
    },
    {
      "cell_type": "code",
      "metadata": {
        "id": "XwMoUt2eQ5re",
        "colab": {
          "base_uri": "https://localhost:8080/"
        },
        "outputId": "a359e40c-6bd7-4f7c-94b5-0124cc698b32"
      },
      "source": [
        "print(\"___________________________________________________________________\\nSMOTE\\n\")\n",
        "print('Original dataset shape %s' % Counter(Ytrain))\n",
        "sm = SMOTE(sampling_strategy=0.95)\n",
        "X_res, y_res = sm.fit_resample(Xtrain, Ytrain)\n",
        "print('Resampled dataset shape %s' % Counter(y_res))"
      ],
      "execution_count": null,
      "outputs": [
        {
          "output_type": "stream",
          "name": "stdout",
          "text": [
            "___________________________________________________________________\n",
            "SMOTE\n",
            "\n",
            "Original dataset shape Counter({'QuoteConversion_Flag': 1})\n",
            "Resampled dataset shape Counter({'QuoteConversion_Flag': 1})\n"
          ]
        }
      ]
    },
    {
      "cell_type": "code",
      "source": [
        "from sklearn import metrics"
      ],
      "metadata": {
        "id": "CUGLR32CliTN"
      },
      "execution_count": null,
      "outputs": []
    },
    {
      "cell_type": "code",
      "source": [
        "from sklearn.model_selection import train_test_split\n",
        "from sklearn.tree import DecisionTreeClassifier\n",
        "from sklearn import metrics\n",
        "\n",
        "# Assuming you have already defined and trained your Decision Tree model (clf)\n",
        "\n",
        "# Fit model on the resampled data\n",
        "clf.fit(X_res, y_res)\n",
        "\n",
        "# Predictions on the resampled training data\n",
        "Train_Pred = clf.predict(X_res)\n",
        "\n",
        "# Model Accuracy on the resampled training data\n",
        "print(\"TRAIN Accuracy:\", metrics.accuracy_score(y_res, Train_Pred))\n",
        "\n",
        "# Split the dataset for testing\n",
        "Xtrain, Xtest, Ytrain, Ytest = train_test_split(X_res, y_res, test_size=0.5, random_state=1)\n",
        "\n",
        "# Fit the model on the new training dataset\n",
        "dt = DecisionTreeClassifier()\n",
        "dt.fit(Xtrain, Ytrain)\n",
        "\n",
        "# Predictions on the new test data\n",
        "Y_PredNew = dt.predict(Xtest)\n",
        "\n",
        "# Model Accuracy on the new test data\n",
        "print(\"TEST Accuracy:\", metrics.accuracy_score(Ytest, Y_PredNew))\n",
        "\n",
        "# Confusion matrix and classification report\n",
        "print(\"Confusion Matrix for Test Data:\")\n",
        "print(metrics.confusion_matrix(Ytest, Y_PredNew))\n",
        "print()\n",
        "print('Classification Report for Test Data:')\n",
        "print(metrics.classification_report(Ytest, Y_PredNew))\n"
      ],
      "metadata": {
        "colab": {
          "base_uri": "https://localhost:8080/"
        },
        "id": "pUkcM-nhi1rC",
        "outputId": "7e851770-b16f-4e4c-cb44-44aefac2a28b"
      },
      "execution_count": null,
      "outputs": [
        {
          "output_type": "stream",
          "name": "stdout",
          "text": [
            "TRAIN Accuracy: 1.0\n",
            "TEST Accuracy: 0.915752625437573\n",
            "Confusion Matrix for Test Data:\n",
            "[[24184  2257]\n",
            " [ 2075 22904]]\n",
            "\n",
            "Classification Report for Test Data:\n",
            "              precision    recall  f1-score   support\n",
            "\n",
            "           0       0.92      0.91      0.92     26441\n",
            "           1       0.91      0.92      0.91     24979\n",
            "\n",
            "    accuracy                           0.92     51420\n",
            "   macro avg       0.92      0.92      0.92     51420\n",
            "weighted avg       0.92      0.92      0.92     51420\n",
            "\n"
          ]
        }
      ]
    },
    {
      "cell_type": "code",
      "source": [
        "Y_Predtest = dt.predict(X_test)\n",
        "Output1=pd.DataFrame({'QuoteNumber':X_test['QuoteNumber'],'QuoteConversion_Flag':Y_Predtest})\n",
        "Output1.to_csv('/gdrive/My Drive/your_output_file1.csv', index=False)"
      ],
      "metadata": {
        "id": "4mVpN07eqET_"
      },
      "execution_count": null,
      "outputs": []
    },
    {
      "cell_type": "markdown",
      "metadata": {
        "id": "_XD8njUjRXJv"
      },
      "source": [
        "# ***ENSEMBLE METHODS STACKING***"
      ]
    },
    {
      "cell_type": "code",
      "metadata": {
        "id": "tS4c_BpQRQ0O",
        "colab": {
          "base_uri": "https://localhost:8080/"
        },
        "outputId": "7d0ff3d9-6e8a-438a-dc7a-1c22bd43dd30"
      },
      "source": [
        "from mlxtend.classifier import StackingClassifier\n",
        "from sklearn.neighbors import KNeighborsClassifier\n",
        "from sklearn.neural_network import MLPClassifier\n",
        "from sklearn.ensemble import RandomForestClassifier, GradientBoostingClassifier\n",
        "from sklearn.tree import DecisionTreeClassifier\n",
        "from sklearn.metrics import accuracy_score\n",
        "from mlxtend.plotting import plot_decision_regions\n",
        "from mlxtend.data import iris_data\n",
        "from sklearn.model_selection import train_test_split\n",
        "\n",
        "# Assuming you have defined X_res, y_res, and Xtest previously\n",
        "models = [KNeighborsClassifier(), MLPClassifier(), RandomForestClassifier(), DecisionTreeClassifier()]\n",
        "\n",
        "# Perform stacking using the mlxtend StackingClassifier\n",
        "S_Train, S_Test = stacking(models,\n",
        "                           X_res, y_res, Xtest,\n",
        "                           regression=False,\n",
        "                           mode='oof_pred_bag',\n",
        "                           needs_proba=False,\n",
        "                           save_dir=None,\n",
        "                           metric=accuracy_score,\n",
        "                           n_folds=4,\n",
        "                           stratified=True,\n",
        "                           shuffle=True,\n",
        "                           random_state=0,\n",
        "                           verbose=2)\n",
        "\n"
      ],
      "execution_count": null,
      "outputs": [
        {
          "output_type": "stream",
          "name": "stdout",
          "text": [
            "task:         [classification]\n",
            "n_classes:    [2]\n",
            "metric:       [accuracy_score]\n",
            "mode:         [oof_pred_bag]\n",
            "n_models:     [4]\n",
            "\n",
            "model  0:     [KNeighborsClassifier]\n",
            "    fold  0:  [0.72018670]\n",
            "    fold  1:  [0.72147025]\n",
            "    fold  2:  [0.72065344]\n",
            "    fold  3:  [0.72153720]\n",
            "    ----\n",
            "    MEAN:     [0.72096190] + [0.00056689]\n",
            "    FULL:     [0.72096189]\n",
            "\n",
            "model  1:     [MLPClassifier]\n",
            "    fold  0:  [0.84667445]\n",
            "    fold  1:  [0.83185531]\n",
            "    fold  2:  [0.68747569]\n",
            "    fold  3:  [0.82776460]\n",
            "    ----\n",
            "    MEAN:     [0.79844251] + [0.06445183]\n",
            "    FULL:     [0.79844223]\n",
            "\n",
            "model  2:     [RandomForestClassifier]\n",
            "    fold  0:  [0.93819525]\n",
            "    fold  1:  [0.93982886]\n",
            "    fold  2:  [0.93982886]\n",
            "    fold  3:  [0.93858182]\n",
            "    ----\n",
            "    MEAN:     [0.93910870] + [0.00073302]\n",
            "    FULL:     [0.93910870]\n",
            "\n",
            "model  3:     [DecisionTreeClassifier]\n",
            "    fold  0:  [0.92007001]\n",
            "    fold  1:  [0.91824193]\n",
            "    fold  2:  [0.91824193]\n",
            "    fold  3:  [0.91761640]\n",
            "    ----\n",
            "    MEAN:     [0.91854257] + [0.00091810]\n",
            "    FULL:     [0.91854258]\n",
            "\n"
          ]
        }
      ]
    },
    {
      "cell_type": "code",
      "source": [
        "print(S_Train.shape)\n",
        "print(S_Test.shape)"
      ],
      "metadata": {
        "colab": {
          "base_uri": "https://localhost:8080/"
        },
        "id": "PE2l0xLi_Gid",
        "outputId": "5dcd3d26-3f16-4b31-99cb-b9f779687428"
      },
      "execution_count": null,
      "outputs": [
        {
          "output_type": "stream",
          "name": "stdout",
          "text": [
            "(102839, 4)\n",
            "(51420, 4)\n"
          ]
        }
      ]
    },
    {
      "cell_type": "code",
      "metadata": {
        "id": "G_vyEanlkcKl"
      },
      "source": [
        "model = MLPClassifier()\n",
        "\n",
        "model = model.fit(Xtrain, Ytrain)\n",
        "y_pred = model.predict(X_test)\n"
      ],
      "execution_count": null,
      "outputs": []
    },
    {
      "cell_type": "code",
      "source": [
        "Y_PredMLP = model.predict(X_test)\n",
        "Output2=pd.DataFrame({'QuoteNumber':X_test['QuoteNumber'],'QuoteConversion_Flag':Y_PredMLP})\n",
        "Output2.to_csv('/gdrive/My Drive/MLP1.csv', index=False)"
      ],
      "metadata": {
        "id": "NrRaA_ewTzQR"
      },
      "execution_count": null,
      "outputs": []
    },
    {
      "cell_type": "code",
      "metadata": {
        "id": "tTVeE_7ZktRo"
      },
      "source": [
        "model = KNeighborsClassifier()\n",
        "\n",
        "model = model.fit(Xtrain, Ytrain)\n",
        "y_pred = model.predict(X_test)\n"
      ],
      "execution_count": null,
      "outputs": []
    },
    {
      "cell_type": "code",
      "source": [
        "Y_PredKNN = model.predict(X_test)\n",
        "Output3=pd.DataFrame({'QuoteNumber':X_test['QuoteNumber'],'QuoteConversion_Flag':Y_PredKNN})\n",
        "Output2.to_csv('/gdrive/My Drive/KNN.csv', index=False)"
      ],
      "metadata": {
        "id": "BjrUq2S-VXla"
      },
      "execution_count": null,
      "outputs": []
    },
    {
      "cell_type": "code",
      "metadata": {
        "id": "Iv-CE4ZLRjJS",
        "colab": {
          "base_uri": "https://localhost:8080/"
        },
        "outputId": "c8bb3c42-7c05-4e20-a68a-455b408a549a"
      },
      "source": [
        "model = GradientBoostingClassifier()\n",
        "\n",
        "model = model.fit(S_Train, y_res)\n",
        "y_pred = model.predict(S_Test)\n",
        "print('Final prediction score for ensemble methods: [%.8f]' % accuracy_score(y_test, y_pred))"
      ],
      "execution_count": null,
      "outputs": [
        {
          "output_type": "stream",
          "name": "stdout",
          "text": [
            "Final prediction score for ensemble methods: [1.00000000]\n"
          ]
        }
      ]
    },
    {
      "cell_type": "code",
      "source": [
        "Y_PredGBC = model.predict(X_test)\n",
        "Output4=pd.DataFrame({'QuoteNumber':X_test['QuoteNumber'],'QuoteConversion_Flag':Y_PredGBC})\n",
        "Output2.to_csv('/gdrive/My Drive/GBC.csv', index=False)"
      ],
      "metadata": {
        "id": "9yUo7TKiVv7H"
      },
      "execution_count": null,
      "outputs": []
    },
    {
      "cell_type": "code",
      "metadata": {
        "id": "Wffof6dLRo6J",
        "colab": {
          "base_uri": "https://localhost:8080/",
          "height": 203
        },
        "outputId": "3d615211-ae6d-4cac-98e0-0ebc3c1729bd"
      },
      "source": [
        "#Get Prediction Probability for the predicted class as a dataframe\n",
        "pred_Probability =pd.DataFrame(model.predict_proba(S_Test))\n",
        "\n",
        "pred_Probability.head()"
      ],
      "execution_count": null,
      "outputs": [
        {
          "output_type": "execute_result",
          "data": {
            "text/html": [
              "<div>\n",
              "<style scoped>\n",
              "    .dataframe tbody tr th:only-of-type {\n",
              "        vertical-align: middle;\n",
              "    }\n",
              "\n",
              "    .dataframe tbody tr th {\n",
              "        vertical-align: top;\n",
              "    }\n",
              "\n",
              "    .dataframe thead th {\n",
              "        text-align: right;\n",
              "    }\n",
              "</style>\n",
              "<table border=\"1\" class=\"dataframe\">\n",
              "  <thead>\n",
              "    <tr style=\"text-align: right;\">\n",
              "      <th></th>\n",
              "      <th>0</th>\n",
              "      <th>1</th>\n",
              "    </tr>\n",
              "  </thead>\n",
              "  <tbody>\n",
              "    <tr>\n",
              "      <th>0</th>\n",
              "      <td>0.999783</td>\n",
              "      <td>0.000217</td>\n",
              "    </tr>\n",
              "    <tr>\n",
              "      <th>1</th>\n",
              "      <td>0.999783</td>\n",
              "      <td>0.000217</td>\n",
              "    </tr>\n",
              "    <tr>\n",
              "      <th>2</th>\n",
              "      <td>0.999783</td>\n",
              "      <td>0.000217</td>\n",
              "    </tr>\n",
              "    <tr>\n",
              "      <th>3</th>\n",
              "      <td>0.999783</td>\n",
              "      <td>0.000217</td>\n",
              "    </tr>\n",
              "    <tr>\n",
              "      <th>4</th>\n",
              "      <td>0.999783</td>\n",
              "      <td>0.000217</td>\n",
              "    </tr>\n",
              "  </tbody>\n",
              "</table>\n",
              "</div>"
            ],
            "text/plain": [
              "          0         1\n",
              "0  0.999783  0.000217\n",
              "1  0.999783  0.000217\n",
              "2  0.999783  0.000217\n",
              "3  0.999783  0.000217\n",
              "4  0.999783  0.000217"
            ]
          },
          "metadata": {},
          "execution_count": 36
        }
      ]
    }
  ]
}